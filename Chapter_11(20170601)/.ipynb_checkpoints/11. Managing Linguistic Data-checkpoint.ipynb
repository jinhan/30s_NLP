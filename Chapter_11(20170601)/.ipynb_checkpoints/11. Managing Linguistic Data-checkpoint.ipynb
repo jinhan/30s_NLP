{
 "cells": [
  {
   "cell_type": "code",
   "execution_count": 5,
   "metadata": {
    "collapsed": false
   },
   "outputs": [
    {
     "data": {
      "application/javascript": [
       "IPython.notebook.set_autosave_interval(600000)"
      ]
     },
     "metadata": {},
     "output_type": "display_data"
    },
    {
     "name": "stdout",
     "output_type": "stream",
     "text": [
      "Autosaving every 600 seconds\n"
     ]
    }
   ],
   "source": [
    "% autosave 600"
   ]
  },
  {
   "cell_type": "markdown",
   "metadata": {},
   "source": [
    "# Managing Linguistic Data"
   ]
  },
  {
   "cell_type": "markdown",
   "metadata": {},
   "source": [
    "<strong> 학습목표 </strong>"
   ]
  },
  {
   "cell_type": "markdown",
   "metadata": {},
   "source": [
    "1. 어떻게 범위, 균형, 그리고 기록문서가 범용적인 유틸리티를 서포트하는 새로운 언어 리소스를 디자인할 수 있는가? \n",
    "2. 만약 존재하는 데이터가 분석 툴에 적절하지 않은 포맷을 가지고 있다면, 어떻게 적절한 것으로 바꿀 수 있는가?\n",
    "3. 우리가 만들어낸 리소스를 어떻게 문서화하여야 다른 이들이 쉽게 찾을 수 있는가? "
   ]
  },
  {
   "cell_type": "markdown",
   "metadata": {},
   "source": [
    "목표: 현존하고 있는 corpora의 디자인을 살펴보고, 새로운 corpus를 만들어낸 데 수반되는 전형적인 workflow를 살펴보고, 그리고 corpus의 라이프사이클을 알아볼 것이다. "
   ]
  },
  {
   "cell_type": "markdown",
   "metadata": {},
   "source": [
    "## 1. Corpus Structure: A Case Study"
   ]
  },
  {
   "cell_type": "markdown",
   "metadata": {},
   "source": [
    "<strong> The TIMIT Corpus </strong>\n",
    "- Texas Instruments + MIT 가 공동으로 만든 코퍼스\n",
    "- 자동 스피치 인식 시스템 구축을 위해 만들어진 코퍼스"
   ]
  },
  {
   "cell_type": "markdown",
   "metadata": {
    "collapsed": true
   },
   "source": [
    "### 1.1 The Structure of TIMIT"
   ]
  },
  {
   "cell_type": "markdown",
   "metadata": {},
   "source": [
    "TIMIT은 각 지방 방언과 발화자, 그리고 다양한 언어 재료로 구성되어 있다. 8개의 지역 방언 각각에 대해, 50명의 다른 연령대와 학력을 가진 발화자가 각각 10개의 문장을 읽는다. NLTK를 통해 TIMIT의 샘플을 액세스할 수 있다."
   ]
  },
  {
   "cell_type": "markdown",
   "metadata": {},
   "source": [
    "a.\t\tshe had your dark suit in greasy wash water all year <br>\n",
    "b.\t\tdon't ask me to carry an oily rag like that"
   ]
  },
  {
   "cell_type": "markdown",
   "metadata": {},
   "source": [
    "<img src = \"images/timitsample.png\">"
   ]
  },
  {
   "cell_type": "code",
   "execution_count": 4,
   "metadata": {
    "collapsed": true
   },
   "outputs": [],
   "source": [
    "import nltk"
   ]
  },
  {
   "cell_type": "code",
   "execution_count": 6,
   "metadata": {
    "collapsed": false,
    "scrolled": true
   },
   "outputs": [
    {
     "data": {
      "text/plain": [
       "['h#',\n",
       " 'sh',\n",
       " 'iy',\n",
       " 'hv',\n",
       " 'ae',\n",
       " 'dcl',\n",
       " 'y',\n",
       " 'ix',\n",
       " 'dcl',\n",
       " 'd',\n",
       " 'aa',\n",
       " 'kcl',\n",
       " 's',\n",
       " 'ux',\n",
       " 'tcl',\n",
       " 'en',\n",
       " 'gcl',\n",
       " 'g',\n",
       " 'r',\n",
       " 'iy',\n",
       " 's',\n",
       " 'iy',\n",
       " 'w',\n",
       " 'aa',\n",
       " 'sh',\n",
       " 'epi',\n",
       " 'w',\n",
       " 'aa',\n",
       " 'dx',\n",
       " 'ax',\n",
       " 'q',\n",
       " 'ao',\n",
       " 'l',\n",
       " 'y',\n",
       " 'ih',\n",
       " 'ax',\n",
       " 'h#']"
      ]
     },
     "execution_count": 6,
     "metadata": {},
     "output_type": "execute_result"
    }
   ],
   "source": [
    "phonetic = nltk.corpus.timit.phones('dr1-fvmh0/sa1')\n",
    "phonetic"
   ]
  },
  {
   "cell_type": "code",
   "execution_count": 7,
   "metadata": {
    "collapsed": false
   },
   "outputs": [
    {
     "data": {
      "text/plain": [
       "[('she', 7812, 10610),\n",
       " ('had', 10610, 14496),\n",
       " ('your', 14496, 15791),\n",
       " ('dark', 15791, 20720),\n",
       " ('suit', 20720, 25647),\n",
       " ('in', 25647, 26906),\n",
       " ('greasy', 26906, 32668),\n",
       " ('wash', 32668, 37890),\n",
       " ('water', 38531, 42417),\n",
       " ('all', 43091, 46052),\n",
       " ('year', 46052, 50522)]"
      ]
     },
     "execution_count": 7,
     "metadata": {},
     "output_type": "execute_result"
    }
   ],
   "source": [
    "nltk.corpus.timit.word_times('dr1-fvmh0/sa1')"
   ]
  },
  {
   "cell_type": "code",
   "execution_count": 9,
   "metadata": {
    "collapsed": false
   },
   "outputs": [
    {
     "data": {
      "text/plain": [
       "['g', 'r', 'iy1', 's', 'iy', 'w', 'ao1', 'sh', 'w', 'ao1', 't', 'axr']"
      ]
     },
     "execution_count": 9,
     "metadata": {},
     "output_type": "execute_result"
    }
   ],
   "source": [
    "timitdict = nltk.corpus.timit.transcription_dict() # 각 단어의 canonical pronunciation을 보여줌 \n",
    "timitdict['greasy'] + timitdict['wash'] + timitdict['water']"
   ]
  },
  {
   "cell_type": "code",
   "execution_count": 10,
   "metadata": {
    "collapsed": false
   },
   "outputs": [
    {
     "data": {
      "text/plain": [
       "['g', 'r', 'iy', 's', 'iy', 'w', 'aa', 'sh', 'epi', 'w', 'aa', 'dx', 'ax']"
      ]
     },
     "execution_count": 10,
     "metadata": {},
     "output_type": "execute_result"
    }
   ],
   "source": [
    "phonetic[17:30] # 위에서 보여준 phonetic 리스트 중 17-30번째를 보여줌 "
   ]
  },
  {
   "cell_type": "code",
   "execution_count": 11,
   "metadata": {
    "collapsed": false
   },
   "outputs": [
    {
     "data": {
      "text/plain": [
       "SpeakerInfo(id='VMH0', sex='F', dr='1', use='TRN', recdate='03/11/86', birthdate='01/08/60', ht='5\\'05\"', race='WHT', edu='BS', comments='BEST NEW ENGLAND ACCENT SO FAR')"
      ]
     },
     "execution_count": 11,
     "metadata": {},
     "output_type": "execute_result"
    }
   ],
   "source": [
    "nltk.corpus.timit.spkrinfo('dr1-fvmh0') # 발화자의 인구통계학적 정보를 알려줌"
   ]
  },
  {
   "cell_type": "markdown",
   "metadata": {},
   "source": [
    "### 1.2 Notable Design Features"
   ]
  },
  {
   "cell_type": "markdown",
   "metadata": {},
   "source": [
    "TIMIT에서 주의 깊게 살펴봐야 할 특징들은 다음과 같다."
   ]
  },
  {
   "cell_type": "markdown",
   "metadata": {},
   "source": [
    "(1) 두 개의 주석으로 이루어져 있다. '소리'와 '철자' -- 보통 코퍼스는 매우 다양한 레벨들로 구성될 수 있다.<br>\n",
    "(2) 각 지역 방언을 비롯하여 매우 균형잡힌 구성을 보여줄 뿐 아니라 발화자의 인구통계학적 정보도 포함한다.<br>\n",
    "(3) 최초 녹음 자료와 그 자료에 대한 주석이 있다.<br>\n",
    "(4) 계층적으로 이루어져 있다.<br>\n",
    "(5) TIMIT은 발음을 기록한 데이터이지만, 텍스트로 이루어져 있기에 본 교재에서 다룬 많은 방법들을 적용 가능하다."
   ]
  },
  {
   "cell_type": "markdown",
   "metadata": {},
   "source": [
    "### 1.3 Fundamental Data Types"
   ]
  },
  {
   "cell_type": "markdown",
   "metadata": {},
   "source": [
    "<img src = \"images/datatypes.png\">"
   ]
  },
  {
   "cell_type": "markdown",
   "metadata": {},
   "source": [
    "## 2. The Life-Cycle of a Corpus"
   ]
  },
  {
   "cell_type": "markdown",
   "metadata": {},
   "source": [
    "제대로 된 코퍼스를 만드는 일은 결코 쉬운 일이 아니다. 데이터 전처리에 시간이 많이 소요될 뿐만 아니라 다양한 레벨을 적용시키는 데 전문적인 지식도 필요한 작업이다. 큰 코퍼스의 경우 따라서 수 년이 걸릴 수도 있으며, 엄청난 인력이 소모된다."
   ]
  },
  {
   "cell_type": "markdown",
   "metadata": {},
   "source": [
    "### 2.1 Three Corpus Creation Scenarios"
   ]
  },
  {
   "cell_type": "markdown",
   "metadata": {},
   "source": [
    "- 언어학자의 수년에 걸친 현장에서의 작업들이 코퍼스가 되는 경우\n",
    "- 미리 만들어진 재료를 통해 실험 연구를 진행하여 정리한 결과가 코퍼스가 되는 경우\n",
    "- \"레퍼런스 코퍼스\" 자체의 의미를 가지게 되는 경우 (American National Corpus, British National Corpus)"
   ]
  },
  {
   "cell_type": "markdown",
   "metadata": {},
   "source": [
    "### 2.2 Quality Control"
   ]
  },
  {
   "cell_type": "markdown",
   "metadata": {},
   "source": [
    "수집된 데이터에 대해서 annotate하는 작업도 매우 중요하다. Annotator들이 공동 작업을 할 경우, inter-annotator agreement를 도출해야 한다. 이때 Kappa Coefficient K를 사용한다. "
   ]
  },
  {
   "cell_type": "markdown",
   "metadata": {},
   "source": [
    "예를 들어, 두 명의 코더가 하나의 단어를 코딩하는데 네 개의 옵션이 가능하다고 해보자. 두 명이 랜덤하게 코딩한다면 서로 일치할 확률은 25%일 것이다. 따라서 25%일 때 K=0 (baseline)이 된다. 만약 확률이 50%가 된다면, 25-100% 사이에 50%는 약 1/3이므로 K=0.333정도가 된다. "
   ]
  },
  {
   "cell_type": "markdown",
   "metadata": {},
   "source": [
    "### 2.3 Curation vs Evolution"
   ]
  },
  {
   "cell_type": "markdown",
   "metadata": {},
   "source": [
    "<img src = \"images/evolution.png\">"
   ]
  },
  {
   "cell_type": "markdown",
   "metadata": {},
   "source": [
    "## 3. Acquiring Data"
   ]
  },
  {
   "cell_type": "markdown",
   "metadata": {},
   "source": [
    "### 3.1 Acquiring Data from the Web"
   ]
  },
  {
   "cell_type": "markdown",
   "metadata": {},
   "source": [
    "텍스트 데이터를 얻는 가장 쉬운 방법 중 하나는 웹에서 얻는 것이다. 한 예로는 ACL Special Interest Group on Web as Corpus (SIGWAC) (http://www.sigwac.org.uk/)가 있다. 이러한 코퍼스의 장점은 잘 문서화되어 있고, 재생산이 가능하며, 안정적이라는 것이다."
   ]
  },
  {
   "cell_type": "markdown",
   "metadata": {},
   "source": [
    "### 3.2 Obtaining Data from Word Processor Files"
   ]
  },
  {
   "cell_type": "markdown",
   "metadata": {},
   "source": [
    "워드 프로세서로 작업된 파일이 안정적이고 믿을 만한 자료라는 것을 어떻게 알 수 있는가? 에 대한 방법이 소개되어 있는데... 한 가지 방법은 이 자료를 HTML등으로 저장해서 프로그램을 통해 자동으로 그 문서를 확인하는 방법이 있다. 마찬가지로 HTML 문서의 데이터를 받아 올 경우 BeautifulSoup 패키지를 사용하라고 소개되어 있다..."
   ]
  },
  {
   "cell_type": "markdown",
   "metadata": {},
   "source": [
    "### 3.3 Obtaining Data from Spreadsheets and Databases"
   ]
  },
  {
   "cell_type": "markdown",
   "metadata": {},
   "source": [
    "잘 만들어진 DB의 경우, 그냥 CSV로 덤프하는 것이 나을 거라고도 한다..."
   ]
  },
  {
   "cell_type": "markdown",
   "metadata": {},
   "source": [
    "### 3.4 Converting Data Formats"
   ]
  },
  {
   "cell_type": "markdown",
   "metadata": {},
   "source": [
    "포맷을 다르게 저장하고 싶을 때도 있다. 그럴 때에는 index structure를 만들고 나서 원하는 포맷으로 map하는 것이 좋다..."
   ]
  },
  {
   "cell_type": "markdown",
   "metadata": {},
   "source": [
    "### 3.5 Deciding Which Layers of Annotations to Include"
   ]
  },
  {
   "cell_type": "markdown",
   "metadata": {},
   "source": [
    "가장 흔하게 제공되는 annotation layer는 다음과 같다."
   ]
  },
  {
   "cell_type": "markdown",
   "metadata": {},
   "source": [
    "- Word Tokenization: 단어의 고유한 철자적 성질을 보유한다. \n",
    "- Sentence Segmentation: 3장에서 보았듯이, 문장을 나누는 일은 생각보다 꽤 복잡하다. 따라서 어느 코퍼스는 아예 미리 문장을 나누어 놓기도 한다. \n",
    "- Paragraph Segmentation: 문단이나 다른 구조적 요소들이 나누어져 있을 때도 있다.\n",
    "- Part of Speech: 문서에 있는 각 단어의 구문론적(문법적) 분류를 나타낸다. \n",
    "- Syntactic Structure: 문장의 constituent structure를 보여주는 트리이다. \n",
    "- Shallow Semantics: 이름을 가진 객체나 의미론적 역할 (가끔 겹침)을 보여준다.\n",
    "- Dialogue and Discourse: 대화에서의 역할 등을 보여준다. "
   ]
  },
  {
   "cell_type": "markdown",
   "metadata": {},
   "source": [
    "### 3.6 Standards and Tools"
   ]
  },
  {
   "cell_type": "markdown",
   "metadata": {},
   "source": [
    "코퍼스가 널리 사용되려면, 그 포맷이 널리 사용되는 것이어야 한다. 그러나 NLP의 cutting edge는 그것이 새로운 annotation을 만들어 내느냐에 있으므로, 따라서 널리 사용되지 않는 포맷일 때가 많다. 또한 우리가 관여되는 많은 프로젝트는 그 각각의 기준을 가지고 있을 때가 많다. 따라서 범용적인 포맷은 불가능하다. 이럴 때는 일단 널리 통용되는 포맷을 사용하여 가장 많은 annotation을 포함할 수 있도록 하는 것이다. 또한, 이보다 더 좋은 방법은, 범용적인 '인터페이스'를 만드는 것이다. nltk.corpus가 그 일례라고 할 수 있다."
   ]
  },
  {
   "cell_type": "markdown",
   "metadata": {},
   "source": [
    "### 3.7 Special Considerations when Working with Endangered Languages"
   ]
  },
  {
   "cell_type": "markdown",
   "metadata": {},
   "source": [
    "## 4. Working with XML"
   ]
  },
  {
   "cell_type": "markdown",
   "metadata": {},
   "source": [
    "Extensible Markup Language (XML)은 도메인에 특화된 언어를 디자인하는 프레임워크를 제공한다. 때때로 XML은 annotated text와 어휘 자료를 나타내기 위해 쓰이기도 한다. 미리 지정된 태그를 사용해야만 하는 HTML과는 달리, XML은 우리 스스로의 태그를 만들 수 있도록 허용한다. 데이터베이스와는 달리, XML은 구조를 미리 지정하지 않고도 데이터를 만들 수 있게 해준다. 여기서는 언어학적 데이터를 나타내기 위해 사용할 수 있는 XML의 피처들을 알아보고, 파이썬으로 XML 파일을 엑세스하는 방법을 알아보기로 한다."
   ]
  },
  {
   "cell_type": "markdown",
   "metadata": {},
   "source": [
    "### 4.1 Using XML for Linguistic Structures "
   ]
  },
  {
   "cell_type": "markdown",
   "metadata": {},
   "source": [
    "유연성과 확장성이 높은 언어인 XML은 linguistic data를 나타내기에 최적의 선택이라고도 할 수 있다. 다음의 예를 보자."
   ]
  },
  {
   "cell_type": "markdown",
   "metadata": {},
   "source": [
    "이 예제는 nesting의 중요성을 보여준다.\n",
    "<entry>\n",
    "  <headword>whale</headword>\n",
    "  <pos>noun</pos>\n",
    "  <gloss>any of the larger cetacean mammals having a streamlined\n",
    "    body and breathing through a blowhole on the head</gloss>\n",
    "</entry>"
   ]
  },
  {
   "cell_type": "markdown",
   "metadata": {},
   "source": [
    "이 예제는 같은 태그를 반복할 수 있음을 보여준다.\n",
    "<entry><headword>whale</headword><pos>noun</pos><gloss>any of the\n",
    "larger cetacean mammals having a streamlined body and breathing\n",
    "through a blowhole on the head</gloss><gloss>a very large person;\n",
    "impressive in size or qualities</gloss></entry>"
   ]
  },
  {
   "cell_type": "markdown",
   "metadata": {},
   "source": [
    "이 예제는 WordNet과 같은 외부 소스를 사용할 수 있음을 보여준다.\n",
    "<entry>\n",
    "  <headword>whale</headword>\n",
    "  <pos>noun</pos>\n",
    "  <sense>\n",
    "    <gloss>any of the larger cetacean mammals having a streamlined\n",
    "      body and breathing through a blowhole on the head</gloss>\n",
    "    <synset>whale.n.02</synset>\n",
    "  </sense>\n",
    "  <sense>\n",
    "    <gloss>a very large person; impressive in size or qualities</gloss>\n",
    "    <synset>giant.n.04</synset>\n",
    "  </sense>\n",
    "</entry>"
   ]
  },
  {
   "cell_type": "markdown",
   "metadata": {},
   "source": [
    "이 예제는 XML attribute를 사용하여 추가적인 nesting 없이 외부 소스를 사용할 수 있음을 보여준다.\n",
    "<entry>\n",
    "  <headword>whale</headword>\n",
    "  <pos>noun</pos>\n",
    "  <gloss synset=\"whale.n.02\">any of the larger cetacean mammals having\n",
    "      a streamlined body and breathing through a blowhole on the head</gloss>\n",
    "  <gloss synset=\"giant.n.04\">a very large person; impressive in size or\n",
    "      qualities</gloss>\n",
    "</entry>"
   ]
  },
  {
   "cell_type": "markdown",
   "metadata": {},
   "source": [
    "결론: linguistic data에 XML 짱짱"
   ]
  },
  {
   "cell_type": "markdown",
   "metadata": {},
   "source": [
    "### 4.2 The Role of XML"
   ]
  },
  {
   "cell_type": "markdown",
   "metadata": {},
   "source": [
    "XML이 자유도가 높아서 좋다고 생각했겠지만 함정이 있다. 자유도가 높다고 태그들을 만들어내버리다 보면 어떤 프로그램이라도 쉽게 엑세스하기 어렵게 되며, 데이터의 validity도 체크하기 어렵게 된다. 따라서 XML이 linguistic data modeling에 최적이라고 생각할 순 없다. 우리는 여전히 데이터의 구조를 어떻게 잡을지, schema를 어떻게 짜야 할지, 그리고 다른 포맷으로 엑세스할 수 있는 프로그램을 만들어내는 등을 수행해야 한다. 또한, data normalization에 대해 다음의 주의사항 또한 숙지해야 한다."
   ]
  },
  {
   "cell_type": "markdown",
   "metadata": {},
   "source": [
    "- 같은 정보를 가진 데이터에 대해 많은 카피를 만들어두는 것은 바람직하지 않다.\n",
    "- 서로 위계질서를 가진 정보에 대해서는 그에 적합한 관계성을 나타낼 수 있도록 구조화하는 게 좋다. \n",
    "- '다-대-다'의 관계를 가진 정보들에 대해서는 위계질서를 포함하는 구조로 만들어주는게 좋다."
   ]
  },
  {
   "cell_type": "markdown",
   "metadata": {},
   "source": [
    "결론: linguistic data에 XML이 다는 아님"
   ]
  },
  {
   "cell_type": "markdown",
   "metadata": {},
   "source": [
    "### 4.3 The ElementTree Interface"
   ]
  },
  {
   "cell_type": "markdown",
   "metadata": {},
   "source": [
    "파이썬에 내장되어 있는 ElementTree 인터페이스는 XML 파일 접근을 용이하게 만들어 준다. XML로 저장된 셰익스피어 작품을 불러와 보자."
   ]
  },
  {
   "cell_type": "code",
   "execution_count": 12,
   "metadata": {
    "collapsed": false
   },
   "outputs": [
    {
     "name": "stdout",
     "output_type": "stream",
     "text": [
      "<?xml version=\"1.0\"?>\n",
      "<?xml-stylesheet type=\"text/css\" href=\"shakes.css\"?>\n",
      "<!-- <!DOCTYPE PLAY SYSTEM \"play.dtd\"> -->\n",
      "\n",
      "<PLAY>\n",
      "<TITLE>The Merchant of Venice</TITLE>\n"
     ]
    }
   ],
   "source": [
    "merchant_file = nltk.data.find('corpora/shakespeare/merchant.xml')\n",
    "raw = open(merchant_file).read()\n",
    "print(raw[:163])"
   ]
  },
  {
   "cell_type": "code",
   "execution_count": 13,
   "metadata": {
    "collapsed": false
   },
   "outputs": [
    {
     "name": "stdout",
     "output_type": "stream",
     "text": [
      "<TITLE>ACT I</TITLE>\n",
      "\n",
      "<SCENE><TITLE>SCENE I.  Venice. A street.</TITLE>\n",
      "<STAGEDIR>Enter ANTONIO, SALARINO, and SALANIO</STAGEDIR>\n",
      "\n",
      "<SPEECH>\n",
      "<SPEAKER>ANTONIO</SPEAKER>\n",
      "<LINE>In sooth, I know not why I am so sad:</LINE>\n"
     ]
    }
   ],
   "source": [
    "print(raw[1789:2006])"
   ]
  },
  {
   "cell_type": "markdown",
   "metadata": {},
   "source": [
    "이제 ElementTree를 사용하여 여러 개의 string으로 된 XML 데이터를 트리로 만들어볼 것이다."
   ]
  },
  {
   "cell_type": "code",
   "execution_count": 14,
   "metadata": {
    "collapsed": true
   },
   "outputs": [],
   "source": [
    "from xml.etree.ElementTree import ElementTree\n",
    "merchant = ElementTree().parse(merchant_file)"
   ]
  },
  {
   "cell_type": "code",
   "execution_count": 15,
   "metadata": {
    "collapsed": false
   },
   "outputs": [
    {
     "data": {
      "text/plain": [
       "<Element 'PLAY' at 0x10d7304f8>"
      ]
     },
     "execution_count": 15,
     "metadata": {},
     "output_type": "execute_result"
    }
   ],
   "source": [
    "merchant"
   ]
  },
  {
   "cell_type": "code",
   "execution_count": 16,
   "metadata": {
    "collapsed": false
   },
   "outputs": [
    {
     "data": {
      "text/plain": [
       "<Element 'TITLE' at 0x10d730ae8>"
      ]
     },
     "execution_count": 16,
     "metadata": {},
     "output_type": "execute_result"
    }
   ],
   "source": [
    "merchant[0] # 트리가 가진 첫번째 요소 "
   ]
  },
  {
   "cell_type": "code",
   "execution_count": 17,
   "metadata": {
    "collapsed": false
   },
   "outputs": [
    {
     "data": {
      "text/plain": [
       "'The Merchant of Venice'"
      ]
     },
     "execution_count": 17,
     "metadata": {},
     "output_type": "execute_result"
    }
   ],
   "source": [
    "merchant[0].text #첫번째 요소의 텍스트 "
   ]
  },
  {
   "cell_type": "code",
   "execution_count": 18,
   "metadata": {
    "collapsed": false
   },
   "outputs": [
    {
     "data": {
      "text/plain": [
       "[<Element 'TITLE' at 0x10d730ae8>,\n",
       " <Element 'PERSONAE' at 0x10d730a48>,\n",
       " <Element 'SCNDESCR' at 0x10d772818>,\n",
       " <Element 'PLAYSUBT' at 0x10d772868>,\n",
       " <Element 'ACT' at 0x10d7728b8>,\n",
       " <Element 'ACT' at 0x10d78fb88>,\n",
       " <Element 'ACT' at 0x10d7c2458>,\n",
       " <Element 'ACT' at 0x10d7ee9f8>,\n",
       " <Element 'ACT' at 0x10d812458>]"
      ]
     },
     "execution_count": 18,
     "metadata": {},
     "output_type": "execute_result"
    }
   ],
   "source": [
    "merchant.getchildren() #트리가 가진 모든 요소 "
   ]
  },
  {
   "cell_type": "markdown",
   "metadata": {},
   "source": [
    "이번엔 ACT IV를 살펴보자."
   ]
  },
  {
   "cell_type": "code",
   "execution_count": 19,
   "metadata": {
    "collapsed": false
   },
   "outputs": [
    {
     "data": {
      "text/plain": [
       "'ACT IV'"
      ]
     },
     "execution_count": 19,
     "metadata": {},
     "output_type": "execute_result"
    }
   ],
   "source": [
    "merchant[-2][0].text"
   ]
  },
  {
   "cell_type": "code",
   "execution_count": 20,
   "metadata": {
    "collapsed": false
   },
   "outputs": [
    {
     "data": {
      "text/plain": [
       "<Element 'SCENE' at 0x10d7eea98>"
      ]
     },
     "execution_count": 20,
     "metadata": {},
     "output_type": "execute_result"
    }
   ],
   "source": [
    "merchant[-2][1]"
   ]
  },
  {
   "cell_type": "code",
   "execution_count": 21,
   "metadata": {
    "collapsed": false
   },
   "outputs": [
    {
     "data": {
      "text/plain": [
       "'SCENE I.  Venice. A court of justice.'"
      ]
     },
     "execution_count": 21,
     "metadata": {},
     "output_type": "execute_result"
    }
   ],
   "source": [
    "merchant[-2][1][0].text"
   ]
  },
  {
   "cell_type": "code",
   "execution_count": 22,
   "metadata": {
    "collapsed": false
   },
   "outputs": [
    {
     "data": {
      "text/plain": [
       "<Element 'SPEECH' at 0x10d7fbb88>"
      ]
     },
     "execution_count": 22,
     "metadata": {},
     "output_type": "execute_result"
    }
   ],
   "source": [
    "merchant[-2][1][54]"
   ]
  },
  {
   "cell_type": "code",
   "execution_count": 23,
   "metadata": {
    "collapsed": false
   },
   "outputs": [
    {
     "data": {
      "text/plain": [
       "<Element 'SPEAKER' at 0x10d7fbbd8>"
      ]
     },
     "execution_count": 23,
     "metadata": {},
     "output_type": "execute_result"
    }
   ],
   "source": [
    "merchant[-2][1][54][0]"
   ]
  },
  {
   "cell_type": "code",
   "execution_count": 24,
   "metadata": {
    "collapsed": false
   },
   "outputs": [
    {
     "data": {
      "text/plain": [
       "'PORTIA'"
      ]
     },
     "execution_count": 24,
     "metadata": {},
     "output_type": "execute_result"
    }
   ],
   "source": [
    "merchant[-2][1][54][0].text"
   ]
  },
  {
   "cell_type": "code",
   "execution_count": 25,
   "metadata": {
    "collapsed": false
   },
   "outputs": [
    {
     "data": {
      "text/plain": [
       "<Element 'LINE' at 0x10d7fbc28>"
      ]
     },
     "execution_count": 25,
     "metadata": {},
     "output_type": "execute_result"
    }
   ],
   "source": [
    "merchant[-2][1][54][1]"
   ]
  },
  {
   "cell_type": "code",
   "execution_count": 26,
   "metadata": {
    "collapsed": false
   },
   "outputs": [
    {
     "data": {
      "text/plain": [
       "\"The quality of mercy is not strain'd,\""
      ]
     },
     "execution_count": 26,
     "metadata": {},
     "output_type": "execute_result"
    }
   ],
   "source": [
    "merchant[-2][1][54][1].text"
   ]
  },
  {
   "cell_type": "markdown",
   "metadata": {},
   "source": [
    "이렇게 트리에 엑세스할 수도 있지만, 하위 요소를 그 이름으로 엑세스할 수도 있다. 따라서 해당 태그의 이름을 가진 모든 것을 찾아내는 것도 가능하다."
   ]
  },
  {
   "cell_type": "code",
   "execution_count": 27,
   "metadata": {
    "collapsed": false
   },
   "outputs": [
    {
     "name": "stdout",
     "output_type": "stream",
     "text": [
      "Act 3 Scene 2 Speech 9: Let music sound while he doth make his choice;\n",
      "Act 3 Scene 2 Speech 9: Fading in music: that the comparison\n",
      "Act 3 Scene 2 Speech 9: And what is music then? Then music is\n",
      "Act 5 Scene 1 Speech 23: And bring your music forth into the air.\n",
      "Act 5 Scene 1 Speech 23: Here will we sit and let the sounds of music\n",
      "Act 5 Scene 1 Speech 23: And draw her home with music.\n",
      "Act 5 Scene 1 Speech 24: I am never merry when I hear sweet music.\n",
      "Act 5 Scene 1 Speech 25: Or any air of music touch their ears,\n",
      "Act 5 Scene 1 Speech 25: By the sweet power of music: therefore the poet\n",
      "Act 5 Scene 1 Speech 25: But music for the time doth change his nature.\n",
      "Act 5 Scene 1 Speech 25: The man that hath no music in himself,\n",
      "Act 5 Scene 1 Speech 25: Let no such man be trusted. Mark the music.\n",
      "Act 5 Scene 1 Speech 29: It is your music, madam, of the house.\n",
      "Act 5 Scene 1 Speech 32: No better a musician than the wren.\n"
     ]
    }
   ],
   "source": [
    "for i, act in enumerate(merchant.findall('ACT')):\n",
    "     for j, scene in enumerate(act.findall('SCENE')):\n",
    "         for k, speech in enumerate(scene.findall('SPEECH')):\n",
    "             for line in speech.findall('LINE'):\n",
    "                 if 'music' in str(line.text):\n",
    "                     print(\"Act %d Scene %d Speech %d: %s\" % (i+1, j+1, k+1, line.text))"
   ]
  },
  {
   "cell_type": "markdown",
   "metadata": {},
   "source": [
    "또한 특정 embedded element를 가진 요소를 찾는 것도 가능하다. 누가 말을 제일 많이 했는지 보자."
   ]
  },
  {
   "cell_type": "code",
   "execution_count": 28,
   "metadata": {
    "collapsed": false
   },
   "outputs": [
    {
     "data": {
      "text/plain": [
       "[('PORTIA', 117),\n",
       " ('SHYLOCK', 79),\n",
       " ('BASSANIO', 73),\n",
       " ('GRATIANO', 48),\n",
       " ('LORENZO', 47)]"
      ]
     },
     "execution_count": 28,
     "metadata": {},
     "output_type": "execute_result"
    }
   ],
   "source": [
    "from collections import Counter\n",
    "speaker_seq = [s.text for s in merchant.findall('ACT/SCENE/SPEECH/SPEAKER')]\n",
    "speaker_freq = Counter(speaker_seq)\n",
    "top5 = speaker_freq.most_common(5)\n",
    "top5"
   ]
  },
  {
   "cell_type": "markdown",
   "metadata": {},
   "source": [
    "자, 이제 누가 누구와 대화하는지의 패턴을 살펴보자. 23명의 발화자가 있으니, 일단 이것을 줄인 후 작업한다."
   ]
  },
  {
   "cell_type": "code",
   "execution_count": 29,
   "metadata": {
    "collapsed": true
   },
   "outputs": [],
   "source": [
    "from collections import defaultdict\n",
    "abbreviate = defaultdict(lambda: 'OTH')\n",
    "for speaker, _ in top5:\n",
    "    abbreviate[speaker] = speaker[:4] # 발화자 이름을 줄인 듯"
   ]
  },
  {
   "cell_type": "code",
   "execution_count": 30,
   "metadata": {
    "collapsed": false
   },
   "outputs": [
    {
     "name": "stdout",
     "output_type": "stream",
     "text": [
      "     BASS GRAT LORE  OTH PORT SHYL \n",
      "BASS    0   11    0   20   26   16 \n",
      "GRAT    8    0    3   22    9    5 \n",
      "LORE    1    3    0   34    8    1 \n",
      " OTH   26   19   37  101   53   36 \n",
      "PORT   23   13    7   53    0   21 \n",
      "SHYL   15    2    0   41   21    0 \n"
     ]
    }
   ],
   "source": [
    "speaker_seq2 = [abbreviate[speaker] for speaker in speaker_seq]\n",
    "cfd = nltk.ConditionalFreqDist(nltk.bigrams(speaker_seq2))\n",
    "cfd.tabulate()"
   ]
  },
  {
   "cell_type": "markdown",
   "metadata": {},
   "source": [
    "### 4.4 Using ElementTree for Accessing Toolbox Data"
   ]
  },
  {
   "cell_type": "markdown",
   "metadata": {},
   "source": [
    "언어학자들이 즐겨 사용하는 툴박스를 파이썬으로 다루는 것인데, 파푸아 뉴기니의 Rotokas언어를 사용하므로 생략함"
   ]
  },
  {
   "cell_type": "markdown",
   "metadata": {},
   "source": [
    "### 4.5 Formatting Entries"
   ]
  },
  {
   "cell_type": "markdown",
   "metadata": {},
   "source": [
    "위에서 작업한 내용을 HTML 방식으로 바꾸는 방법이다."
   ]
  },
  {
   "cell_type": "markdown",
   "metadata": {},
   "source": [
    "## 5. Working with Toolbox Data"
   ]
  },
  {
   "cell_type": "markdown",
   "metadata": {},
   "source": [
    "## 6. Describing Language Resources using OLAC Metadata"
   ]
  },
  {
   "cell_type": "markdown",
   "metadata": {},
   "source": [
    "### 6.1 What is Metadata?"
   ]
  },
  {
   "cell_type": "markdown",
   "metadata": {},
   "source": [
    "메타데이터란, \"데이터에 대한 구조화된 데이터\"를 말한다. "
   ]
  },
  {
   "cell_type": "markdown",
   "metadata": {},
   "source": [
    "Dublin Core Metadata Initiative는 1995년 웹상에 존재하는 자료의 발견을 도모하고자 시작되었다. Dublin Core metadata의 요소는 resource discovery를 위한 중심되는 요소 집합에 대한 방대하고 간학문적인 합의를 나타내는 것들이다. Dublin Core는 15개의 메타데이터 요소가 있는데, 각 요소는 선택적이며 반복 가능하다: Title, Creator, Subject, Description, Publisher, Contributor, Date, Type, Format, Identifier, Source, Language, Relation, Coverage, Rights. 이 메타데이터 셋은 디지털 또는 전통적인 포맷으로 존재하는 자료들을 기술하는 데 사용될 수 있다. "
   ]
  },
  {
   "cell_type": "markdown",
   "metadata": {},
   "source": [
    "Open Archives Initiative (OAI)는 디지털로 저장된 학문적 자료의 출처와 종류 등의 정보와 관계없이 공통된 프레임워크를 제공한다. 각 리포지토리는 네트워크로 연결 가능한 서버로 구성되어 아카이브된 아이템에 대한 공개된 엑세스를 제공한다. 각 아이템은 unique identifier가 있으며, Dublin Core 메타데이터 기록과 연관되어 있다. OAI는 리포지토리의 콘텐츠를 읽어들이는 데 필요한 메타데이터 검색 서비스의 프로토콜을 정의한다."
   ]
  },
  {
   "cell_type": "markdown",
   "metadata": {},
   "source": [
    "### 6.2 OLAC: Open Language Archives Community"
   ]
  },
  {
   "cell_type": "markdown",
   "metadata": {},
   "source": [
    "Open Language Archives Community (OLAC)는 가상의 언어 자료 도서관을 만들고자 하는 개인과 기관의 국제 협약이라고 할 수 있으며, 다음의 일을 한다: (1) 언어 자료를 디지털로 아카이빙하는 데 대한 최선의 실천책에 대한 합의 도출; (2) 이러한 자료들을 저장하고 엑세스하는 데 필요한 리포지토리와 서비스의 네트워크 구축. 다음의 홈페이지를 방문하면 된다. http://www.language-archives.org/."
   ]
  },
  {
   "cell_type": "markdown",
   "metadata": {},
   "source": [
    "### 6.3 Disseminating Language Resources"
   ]
  },
  {
   "cell_type": "markdown",
   "metadata": {},
   "source": [
    "Linguistic Data Consortium은 NLTK Data Repository를 운영하는데, 이것은 커뮤니티 회원들이 코퍼스를 업로드하고 저장된 모델들을 업로드할 수 있는 오픈-엑세스 공간이다. 이 자료들은 NLTK의 다운로더 툴을 사용하여 엑세스할 수 있다. "
   ]
  },
  {
   "cell_type": "markdown",
   "metadata": {},
   "source": [
    "## 7. Summary"
   ]
  },
  {
   "cell_type": "markdown",
   "metadata": {},
   "source": [
    "- <strong>Fundamental data types</strong>, present in most corpora, are annotated texts and lexicons. Texts have a temporal structure, while lexicons have a record structure.\n",
    "- The lifecycle of a corpus includes <strong>data collection</strong>, <strong>annotation</strong>, <strong>quality control</strong>, and <strong>publication</strong>. The lifecycle continues after publication as the corpus is modified and enriched during the course of research.\n",
    "- Corpus development involves a balance between capturing a representative sample of language usage, and capturing enough material from any one source or genre to be useful; multiplying out the dimensions of variability is usually not feasible because of resource limitations.\n",
    "- <strong>XML</strong> provides a useful format for the storage and interchange of linguistic data, but provides no shortcuts for solving pervasive data modeling problems.\n",
    "- Toolbox format is widely used in language documentation projects; we can write programs to support the curation of Toolbox files, and to convert them to XML.\n",
    "- The Open Language Archives Community (OLAC) provides an infrastructure for documenting and discovering language resources."
   ]
  }
 ],
 "metadata": {
  "anaconda-cloud": {},
  "kernelspec": {
   "display_name": "Python [default]",
   "language": "python",
   "name": "python3"
  },
  "language_info": {
   "codemirror_mode": {
    "name": "ipython",
    "version": 3
   },
   "file_extension": ".py",
   "mimetype": "text/x-python",
   "name": "python",
   "nbconvert_exporter": "python",
   "pygments_lexer": "ipython3",
   "version": "3.5.2"
  }
 },
 "nbformat": 4,
 "nbformat_minor": 1
}
