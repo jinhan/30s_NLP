{
 "cells": [
  {
   "cell_type": "markdown",
   "metadata": {},
   "source": [
    "# 10. Analyzing the Meaning of Sentences"
   ]
  },
  {
   "cell_type": "markdown",
   "metadata": {},
   "source": [
    "## 4   The Semantics of English Sentences"
   ]
  },
  {
   "cell_type": "markdown",
   "metadata": {},
   "source": [
    "### 4.1   Compositional Semantics in Feature-Based Grammar"
   ]
  },
  {
   "cell_type": "markdown",
   "metadata": {},
   "source": [
    "**Principle of Compositionality**: The meaning of a whole is a function of the meanings of the parts and of the way they are syntactically combined.\n",
    "\n",
    "\n",
    "전체의 의미는 각 구성요소들의 의미와 그것들이 통사론적으로 결합된 방식의 작용이다.\n"
   ]
  },
  {
   "cell_type": "markdown",
   "metadata": {},
   "source": [
    "### 4.2   The λ-Calculus"
   ]
  },
  {
   "cell_type": "markdown",
   "metadata": {},
   "source": [
    "λ is a binding operator, just as the first-order logic quantifiers are.  \n",
    "\n",
    "\"어휘(vocabulary) V의 요소이면서 P라는 특성(property)을 가진 요소 w의 집합\"\n",
    "- {w | w ∈ V & P(w)} : mathematical set notation\n",
    "- λw. (V(w) ∧ P(w)) : **λ operator**\n",
    "\n",
    "examples:\n",
    "\n",
    "- \t\t (walk(x) ∧ chew_gum(x)) : open formular\n",
    "\n",
    "- \t\t λx.(walk(x) ∧ chew_gum(x)) : binding the variable x with the λ operator\n",
    "\n",
    "- \t\t \\x.(walk(x) & chew_gum(x)) : NLTK representation \n",
    "\n",
    "\n",
    "Remember that \\ is a special character in Python strings. We could escape it (with another \\), or else use \"raw strings\""
   ]
  },
  {
   "cell_type": "code",
   "execution_count": 6,
   "metadata": {
    "collapsed": false
   },
   "outputs": [
    {
     "ename": "SyntaxError",
     "evalue": "(unicode error) 'unicodeescape' codec can't decode bytes in position 0-1: truncated \\xXX escape (<ipython-input-6-3111eb3c386e>, line 2)",
     "output_type": "error",
     "traceback": [
      "\u001b[0;36m  File \u001b[0;32m\"<ipython-input-6-3111eb3c386e>\"\u001b[0;36m, line \u001b[0;32m2\u001b[0m\n\u001b[0;31m    expr = read_expr('\\x.(walk(x) & chew_gum(x))')\u001b[0m\n\u001b[0m                    ^\u001b[0m\n\u001b[0;31mSyntaxError\u001b[0m\u001b[0;31m:\u001b[0m (unicode error) 'unicodeescape' codec can't decode bytes in position 0-1: truncated \\xXX escape\n"
     ]
    }
   ],
   "source": [
    "import nltk\n",
    "expr = read_expr('\\x.(walk(x) & chew_gum(x))')\n"
   ]
  },
  {
   "cell_type": "code",
   "execution_count": 9,
   "metadata": {
    "collapsed": false
   },
   "outputs": [
    {
     "data": {
      "text/plain": [
       "<LambdaExpression \\x.(walk(x) & chew_gum(x))>"
      ]
     },
     "execution_count": 9,
     "metadata": {},
     "output_type": "execute_result"
    }
   ],
   "source": [
    "expr = read_expr(r'\\x.(walk(x) & chew_gum(x))') # using raw strings: string 앞에 'r'을 붙임\n",
    "expr"
   ]
  },
  {
   "cell_type": "markdown",
   "metadata": {},
   "source": [
    "λ expression으로 결합된 결과는 **λ abstraction**이라 부른다. λ abstraction는 동사구(혹은 주어 없는 절)를 표현하기 좋은 방법이다. 동사의 오른쪽에 붙여서 사용한다. \n",
    "- To walk and chew-gum is hard\n",
    "- hard(\\x.(walk(x) & chew_gum(x)))\n",
    "\n",
    "\n"
   ]
  },
  {
   "cell_type": "markdown",
   "metadata": {},
   "source": [
    "다음은 gerald의 술부(predicate)이다. (gerald가 walking과 chewing gum이라는 특성을 갖고 있다는 것을 뜻함)\n",
    "- \\x.(walk(x) & chew_gum(x)) (gerald)\n",
    "- \t(walk(gerald) & chew_gum(gerald))\n",
    "- (walk(x) & chew_gum(x))[gerald/x]\n",
    "\n",
    "**β-reduction.** : α[β/x] notation for the operation of replacing all free occurrences of x in α by the expression β. \n",
    "\n",
    "In order to carry of β-reduction of expressions in NLTK, we can call the simplify() method"
   ]
  },
  {
   "cell_type": "code",
   "execution_count": 16,
   "metadata": {
    "collapsed": false
   },
   "outputs": [
    {
     "name": "stdout",
     "output_type": "stream",
     "text": [
      "\\x.(walk(x) & chew_gum(x))(gerald)\n",
      "(walk(gerald) & chew_gum(gerald))\n"
     ]
    }
   ],
   "source": [
    "expr = read_expr(r'\\x.(walk(x) & chew_gum(x))(gerald)')\n",
    "print(expr)\n",
    "print(expr.simplify())"
   ]
  },
  {
   "cell_type": "markdown",
   "metadata": {},
   "source": [
    "λ abstract 두번 사용하기"
   ]
  },
  {
   "cell_type": "code",
   "execution_count": 17,
   "metadata": {
    "collapsed": false
   },
   "outputs": [
    {
     "name": "stdout",
     "output_type": "stream",
     "text": [
      "\\y.(dog(cyril) & own(y,cyril))\n",
      "(dog(cyril) & own(angus,cyril))\n"
     ]
    }
   ],
   "source": [
    "print(read_expr(r'\\x.\\y.(dog(x) & own(y, x))(cyril)').simplify())\n",
    "print(read_expr(r'\\x y.(dog(x) & own(y, x))(cyril, angus)').simplify())"
   ]
  },
  {
   "cell_type": "markdown",
   "metadata": {},
   "source": [
    "### 4.3   Quantified NPs"
   ]
  },
  {
   "cell_type": "code",
   "execution_count": null,
   "metadata": {
    "collapsed": true
   },
   "outputs": [],
   "source": []
  },
  {
   "cell_type": "markdown",
   "metadata": {},
   "source": [
    "### 4.4   Transitive Verbs"
   ]
  },
  {
   "cell_type": "markdown",
   "metadata": {},
   "source": [
    "### 4.5   Quantifier Ambiguity Revisited"
   ]
  },
  {
   "cell_type": "markdown",
   "metadata": {},
   "source": [
    "## 5   Discourse Semantics"
   ]
  },
  {
   "cell_type": "markdown",
   "metadata": {},
   "source": [
    "### 5.1   Discourse Representation Theory"
   ]
  },
  {
   "cell_type": "markdown",
   "metadata": {},
   "source": [
    "### 5.2   Discourse Processing"
   ]
  }
 ],
 "metadata": {
  "kernelspec": {
   "display_name": "Python 3",
   "language": "python",
   "name": "python3"
  },
  "language_info": {
   "codemirror_mode": {
    "name": "ipython",
    "version": 3
   },
   "file_extension": ".py",
   "mimetype": "text/x-python",
   "name": "python",
   "nbconvert_exporter": "python",
   "pygments_lexer": "ipython3",
   "version": "3.6.0"
  }
 },
 "nbformat": 4,
 "nbformat_minor": 2
}
